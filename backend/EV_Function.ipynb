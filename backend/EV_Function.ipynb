{
  "nbformat": 4,
  "nbformat_minor": 0,
  "metadata": {
    "colab": {
      "provenance": []
    },
    "kernelspec": {
      "name": "python3",
      "display_name": "Python 3"
    },
    "language_info": {
      "name": "python"
    }
  },
  "cells": [
    {
      "cell_type": "code",
      "execution_count": null,
      "metadata": {
        "id": "wciGsN54lzCN"
      },
      "outputs": [],
      "source": [
        "ticker_symbol = \"AAPL\"\n",
        "Date_day = \"\"\n",
        "Date_month = \"\"\n",
        "Date_year = \"\"\n",
        "import requests\n",
        "iex_api_key = 'sk_29735f4ddf4a47efb27623b229dda54a'"
      ]
    },
    {
      "cell_type": "code",
      "source": [
        "# Enterprise_value formula is value of company is market capitalization on date -/+ Net Debt\n",
        "\n",
        "# Market capitalisation is share price(on date)*number of shares in last report\n",
        "\n",
        "# https://cloud.iexapis.com/v1/data/CORE/FUNDAMENTALS?last=1&token=sk_29735f4ddf4a47efb27623b229dda54a\n",
        "\n"
      ],
      "metadata": {
        "id": "cJpES8zmmeF6"
      },
      "execution_count": null,
      "outputs": []
    },
    {
      "cell_type": "code",
      "source": [
        "\n",
        "p = \"https://cloud.iexapis.com/stable/time-series/fundamentals/\"+ticker_symbol+\"?last=1&token=sk_29735f4ddf4a47efb27623b229dda54a\"\n"
      ],
      "metadata": {
        "id": "ieJkEb-ouxmN"
      },
      "execution_count": null,
      "outputs": []
    },
    {
      "cell_type": "code",
      "source": [
        "raw_price = requests.get(p)"
      ],
      "metadata": {
        "id": "juSRZ9jtu6_b"
      },
      "execution_count": null,
      "outputs": []
    },
    {
      "cell_type": "code",
      "source": [
        "print(raw_price.json())"
      ],
      "metadata": {
        "colab": {
          "base_uri": "https://localhost:8080/"
        },
        "id": "aYYsEQHZvBdr",
        "outputId": "b508eb40-81c4-44fa-a5fb-7913dcf2dfd0"
      },
      "execution_count": null,
      "outputs": [
        {
          "output_type": "stream",
          "name": "stdout",
          "text": [
            "[{'accountsPayable': 57918000000, 'accountsPayableTurnover': 6.69113229047964, 'accountsReceivable': 54180000000, 'accountsReceivableTurnover': 7.15276854928018, 'asOfDate': '2023-02-06', 'assetsCurrentCash': 51355000000, 'assetsCurrentCashRestricted': 0, 'assetsCurrentDeferredCompensation': 0, 'assetsCurrentDeferredTax': 0, 'assetsCurrentDiscontinuedOperations': 0, 'assetsCurrentInvestments': 0, 'assetsCurrentLeasesOperating': 0, 'assetsCurrentLoansNet': 0, 'assetsCurrentOther': 16422000000, 'assetsCurrentSeparateAccounts': 0, 'assetsCurrentUnadjusted': 128777000000, 'assetsFixed': 217970000000, 'assetsFixedDeferredCompensation': 0, 'assetsFixedDeferredTax': 0, 'assetsFixedDiscontinuedOperations': 0, 'assetsFixedLeasesOperating': 0, 'assetsFixedOperatingDiscontinuedOperations': 0, 'assetsFixedOperatingSubsidiaryUnconsolidated': 0, 'assetsFixedOreo': 0, 'assetsFixedOther': 60924000000, 'assetsFixedUnconsolidated': 0, 'assetsUnadjusted': 346747000000, 'capex': -11692000000, 'capexAcquisition': -306000000, 'capexMaintenance': 0, 'cashConversionCycle': -4.6244616643056, 'cashFlowFinancing': -118153000000, 'cashFlowInvesting': -7693000000, 'cashFlowOperating': 109190000000, 'cashFlowShareRepurchase': -88399000000, 'cashLongTerm': 114095000000, 'cashOperating': 0, 'cashPaidForIncomeTaxes': 15166000000, 'cashPaidForInterest': 3037000000, 'cashRestricted': 0, 'chargeAfterTax': 0, 'chargeAfterTaxDiscontinuedOperations': 0, 'chargesAfterTaxOther': 0, 'cik': '0000320193', 'creditLossProvision': 0, 'dataGenerationDate': '2023-02-06', 'daysInAccountsPayable': 54.5498107277499, 'daysInInventory': 6.42338667017601, 'daysInRevenueDeferred': 7.52722965807136, 'daysRevenueOutstanding': 51.0291920513396, 'debtFinancial': 0, 'debtShortTerm': 11483000000, 'depreciationAndAmortizationAccumulated': 68044000000, 'depreciationAndAmortizationCashFlow': 11323000000, 'dividendsPreferred': 0, 'dividendsPreferredRedeemableMandatorily': 0, 'earningsRetained': 3240000000, 'ebitdaReported': 125288000000, 'ebitReported': 113965000000, 'equityShareholder': 56727000000, 'equityShareholderOther': 0, 'equityShareholderOtherDeferredCompensation': 0, 'equityShareholderOtherEquity': 0, 'equityShareholderOtherMezzanine': 0, 'expenses': 274052000000, 'expensesAcquisitionMerger': 0, 'expensesCompensation': 0, 'expensesDepreciationAndAmortization': 0, 'expensesDerivative': 0, 'expensesDiscontinuedOperations': 0, 'expensesDiscontinuedOperationsReits': 0, 'expensesEnergy': 0, 'expensesForeignCurrency': 0, 'expensesInterest': 3240000000, 'expensesInterestFinancials': 0, 'expensesInterestMinority': 0, 'expensesLegalRegulatoryInsurance': 0, 'expensesNonOperatingCompanyDefinedOther': 283000000, 'expensesNonOperatingOther': 0, 'expensesNonOperatingSubsidiaryUnconsolidated': 0, 'expensesNonRecurringOther': 0, 'expensesOperating': 273572000000, 'expensesOperatingOther': 0, 'expensesOperatingSubsidiaryUnconsolidated': 0, 'expensesOreo': 0, 'expensesOreoReits': 0, 'expensesOtherFinancing': -3043000000, 'expensesRestructuring': 0, 'expensesSga': 25252000000, 'expensesStockCompensation': 0, 'expensesWriteDown': 0, 'ffo': 0, 'figi': 'BBG000B9XRY4', 'filingDate': '2023-02-03', 'filingType': '10-Q', 'fiscalQuarter': 1, 'fiscalYear': 2023, 'goodwillAmortizationCashFlow': 0, 'goodwillAmortizationIncomeStatement': 0, 'goodwillAndIntangiblesNetOther': 0, 'goodwillNet': 0, 'incomeFromOperations': 113965000000, 'incomeNet': 95171000000, 'incomeNetPerRevenue': 0.245579131799028, 'incomeNetPerWabso': 5.93, 'incomeNetPerWabsoSplitAdjusted': 5.91447030616136, 'incomeNetPerWabsoSplitAdjustedYoyDeltaPercent': -0.025650599959028, 'incomeNetPerWadso': 5.89, 'incomeNetPerWadsoSplitAdjusted': 5.88022468994027, 'incomeNetPerWadsoSplitAdjustedYoyDeltaPercent': -0.0224681406306387, 'incomeNetPreTax': 113485000000, 'incomeNetYoyDelta': -5384000000, 'incomeOperating': 0, 'incomeOperatingDiscontinuedOperations': 0, 'incomeOperatingOther': 0, 'incomeOperatingSubsidiaryUnconsolidated': 0, 'incomeOperatingSubsidiaryUnconsolidatedAfterTax': 0, 'incomeTax': 18314000000, 'incomeTaxCurrent': 18405000000, 'incomeTaxDeferred': 895000000, 'incomeTaxDiscontinuedOperations': 0, 'incomeTaxOther': -986000000, 'incomeTaxRate': 0.161378155703397, 'interestMinority': 0, 'inventory': 6820000000, 'inventoryTurnover': 56.8236070381232, 'liabilities': 346747000000, 'liabilitiesCurrent': 137286000000, 'liabilitiesNonCurrentAndInterestMinorityTotal': 152734000000, 'liabilitiesNonCurrentDebt': 99627000000, 'liabilitiesNonCurrentDeferredCompensation': 0, 'liabilitiesNonCurrentDeferredTax': 0, 'liabilitiesNonCurrentDiscontinuedOperations': 0, 'liabilitiesNonCurrentLeasesOperating': 0, 'liabilitiesNonCurrentLongTerm': 53107000000, 'liabilitiesNonCurrentOperatingDiscontinuedOperations': 0, 'liabilitiesNonCurrentOther': 53107000000, 'nibclDeferredCompensation': 0, 'nibclDeferredTax': 0, 'nibclDiscontinuedOperations': 0, 'nibclLeasesOperating': 0, 'nibclOther': 59893000000, 'nibclRestructuring': 0, 'nibclRevenueDeferred': 7992000000, 'nibclRevenueDeferredTurnover': 48.4906156156156, 'nibclSeparateAccounts': 0, 'oci': -12912000000, 'periodEndDate': '2022-12-31', 'ppAndENet': 42951000000, 'pricePerEarnings': 22.0960944268475, 'pricePerEarningsPerRevenueYoyDeltaPercent': 9.07256428461929, 'profitGross': 166871000000, 'profitGrossPerRevenue': 0.4305937239541, 'reportDate': '2023-02-03', 'researchAndDevelopmentExpense': 27654000000, 'reserves': 0, 'reservesInventory': 0, 'reservesLifo': 0, 'reservesLoanLoss': 0, 'revenue': 387537000000, 'revenueCostOther': 220666000000, 'revenueIncomeInterest': 0, 'revenueOther': 387537000000, 'revenueSubsidiaryUnconsolidated': 0, 'salesCost': 220666000000, 'sharesIssued': 15842407000, 'sharesOutstandingPeDateBs': 0, 'sharesTreasury': 0, 'stockCommon': 66399000000, 'stockPreferred': 0, 'stockPreferredEquity': 0, 'stockPreferredMezzanine': 0, 'stockTreasury': 0, 'symbol': 'AAPL', 'totalCashFlow': -16656000000, 'wabso': 16091212750, 'wabsoSplitAdjusted': 16091212750, 'wadso': 16184925750, 'wadsoSplitAdjusted': 16184925750, 'id': 'FUNDAMENTALS', 'key': 'AAPL', 'subkey': 'ttm', 'date': 1672444800000, 'updated': 1676301788000}]\n"
          ]
        }
      ]
    },
    {
      "cell_type": "code",
      "source": [
        "import requests\n",
        "import json"
      ],
      "metadata": {
        "id": "t5gp2QxEExCy"
      },
      "execution_count": null,
      "outputs": []
    },
    {
      "cell_type": "code",
      "source": [
        "#fidning the records for apple for the last 10 days\n",
        "# /stock/{symbol}/chart/{range}/{date}\n"
      ],
      "metadata": {
        "id": "jpciG-VfvBjF"
      },
      "execution_count": null,
      "outputs": []
    },
    {
      "cell_type": "code",
      "source": [
        "def get_price_on_a_date(date, ticker_symbol):\n",
        "  url = \"https://cloud.iexapis.com/v1/data/CORE/HISTORICAL_PRICES/\"+ticker_symbol+\"?on=\"+date+\"&token=sk_29735f4ddf4a47efb27623b229dda54a\"\n",
        "  HISTORICAL_PRICES = requests.get(url)\n",
        "  op = HISTORICAL_PRICES.json()\n",
        "  if len(op)!=0: # check to make sure we are not using a date when market was closed. \n",
        "  # Switch it with catch exception in function \n",
        "    close_price = op[0][\"close\"]\n",
        "    return close_price\n",
        "  else: \n",
        "    return 0\n",
        "  return 0"
      ],
      "metadata": {
        "id": "FWAQJTscFG0U"
      },
      "execution_count": null,
      "outputs": []
    },
    {
      "cell_type": "code",
      "source": [
        "get_price_on_a_date(\"2023-01-19\", \"AAPL\")"
      ],
      "metadata": {
        "colab": {
          "base_uri": "https://localhost:8080/"
        },
        "id": "-69w1FJlF503",
        "outputId": "5fed4824-610c-4c46-835c-7ec040ee1df2"
      },
      "execution_count": null,
      "outputs": [
        {
          "output_type": "stream",
          "name": "stdout",
          "text": [
            "135.27\n"
          ]
        }
      ]
    },
    {
      "cell_type": "code",
      "source": [
        "# write function to get outstanding shares on a date.\n",
        "def shares_outstanding(ticker_symbol, date):\n",
        "  url = \"https://api.iex.cloud/v1/data/core/ADVANCED_STATS/\"+ticker_symbol+\"?token=sk_29735f4ddf4a47efb27623b229dda54a\"\n",
        "  ADVANCED_STATS = requests.get(url)\n",
        "  op = ADVANCED_STATS.json()\n",
        "  print(op[0][\"sharesOutstanding\"])"
      ],
      "metadata": {
        "id": "tN66p4-Qi_Db"
      },
      "execution_count": null,
      "outputs": []
    },
    {
      "cell_type": "code",
      "source": [
        "shares_outstanding(\"AAPL\", \"\") "
      ],
      "metadata": {
        "colab": {
          "base_uri": "https://localhost:8080/"
        },
        "id": "loF4OcI-UsIh",
        "outputId": "97699cdf-fea1-4512-ad75-f47ce3ed1d6f"
      },
      "execution_count": null,
      "outputs": [
        {
          "output_type": "stream",
          "name": "stdout",
          "text": [
            "15821946000\n"
          ]
        }
      ]
    },
    {
      "cell_type": "code",
      "source": [
        "def Enterprise_value(ticker_symbol, date):\n",
        "  print(shares_outstanding(ticker_symbol, \"\"))\n",
        "  print(\"hi\")\n",
        "  print(get_price_on_a_date(\"2023-01-19\", \"AAPL\"))"
      ],
      "metadata": {
        "id": "qmcFUPpvVWcO"
      },
      "execution_count": null,
      "outputs": []
    },
    {
      "cell_type": "code",
      "source": [
        "shares_outstanding(ticker_symbol, \"\")"
      ],
      "metadata": {
        "colab": {
          "base_uri": "https://localhost:8080/"
        },
        "id": "Xs5n9ChlV3VE",
        "outputId": "d6d3d2f3-9a8a-40af-fdd0-92c2b27c3f7c"
      },
      "execution_count": null,
      "outputs": [
        {
          "output_type": "stream",
          "name": "stdout",
          "text": [
            "15821946000\n"
          ]
        }
      ]
    },
    {
      "cell_type": "code",
      "source": [
        "import pprint\n",
        "from datetime import datetime\n",
        "import requests\n",
        "import json\n",
        "# take a sample date for which I have to get the interprise value. \n",
        "# 2023-01-21\n",
        "# writing function to get the closes filings to the chosen date\n",
        "input_date = datetime(2023, 1, 21)"
      ],
      "metadata": {
        "id": "Orr12dRSCils"
      },
      "execution_count": null,
      "outputs": []
    },
    {
      "cell_type": "code",
      "source": [
        "url = \"https://api-v2.intrinio.com/companies/AAPL/filings?report_type=10-K,10-Q&api_key=OjAwYjk1OWYxZGEzYWQ2Y2VjN2YyMWExY2RkMTM2Y2Uz\"\n",
        "ADVANCED_STATS = requests.get(url)\n",
        "op = ADVANCED_STATS.json()\n",
        "#pprint.pprint(op)\n",
        "#print(type(op['filings'][0]['filing_date']))\n",
        "test_list = op['filings'] \n",
        "#rint(test_list)\n",
        "res = [ sub['filing_date'] for sub in test_list ]\n"
      ],
      "metadata": {
        "id": "PTD7rKeyCChD"
      },
      "execution_count": null,
      "outputs": []
    },
    {
      "cell_type": "code",
      "source": [
        "\n",
        "\n",
        "datetime_str = '2023-01-21'\n",
        "# dates_list = [dt.datetime.strptime(date, '\"%Y-%m-%d\"').date() for date in dates]\n",
        "dates_list = [datetime.strptime(date, '%Y-%m-%d') for date in res]\n",
        "\n",
        "print(type(dates_list[0]))"
      ],
      "metadata": {
        "colab": {
          "base_uri": "https://localhost:8080/"
        },
        "id": "Hc23CSnrHfwD",
        "outputId": "f3586068-85c4-4647-a109-4fac10c4b07a"
      },
      "execution_count": null,
      "outputs": [
        {
          "output_type": "stream",
          "name": "stdout",
          "text": [
            "<class 'datetime.datetime'>\n"
          ]
        }
      ]
    },
    {
      "cell_type": "code",
      "source": [
        "#print(type(datetime_object))\n",
        "#print(datetime_object)  # printed in default format"
      ],
      "metadata": {
        "id": "B3CTLe1OJnM-"
      },
      "execution_count": null,
      "outputs": []
    },
    {
      "cell_type": "code",
      "source": [
        "input_date = datetime(2023, 1, 21)\n",
        "print(input_date.timestamp)"
      ],
      "metadata": {
        "colab": {
          "base_uri": "https://localhost:8080/"
        },
        "id": "MF-VgPpsJnT2",
        "outputId": "4b6e9dd2-b06b-4f54-a954-c5d2c2234494"
      },
      "execution_count": null,
      "outputs": [
        {
          "output_type": "stream",
          "name": "stdout",
          "text": [
            "<built-in method timestamp of datetime.datetime object at 0x7f9f1c03b5a0>\n"
          ]
        }
      ]
    },
    {
      "cell_type": "code",
      "source": [
        "# get all differences with date as values\n",
        "cloz_dict = {\n",
        "  abs(input_date.timestamp() - date.timestamp()) : date\n",
        "  for date in dates_list}\n",
        " \n",
        "# extracting minimum key using min()\n",
        "res = cloz_dict[min(cloz_dict.keys())]\n",
        " \n",
        "# printing result\n",
        "#print(\"Nearest date from list : \" + str(res))\n",
        "#print(dates_list.index(res))\n",
        "if(res>input_date):\n",
        "  res = dates_list.index(res)+1\n",
        "else:\n",
        "  res = dates_list.index(res)\n",
        "#print(dates_list[1]>input_date)\n",
        "#filing_we_need = res.date()"
      ],
      "metadata": {
        "id": "q0zG71QMNGFa"
      },
      "execution_count": null,
      "outputs": []
    },
    {
      "cell_type": "code",
      "source": [
        "pprint.pprint(op['filings'])"
      ],
      "metadata": {
        "id": "0s4nFsIBRQjE"
      },
      "execution_count": null,
      "outputs": []
    },
    {
      "cell_type": "code",
      "source": [
        "# now that we have a date, we can use that date to obtain the necessary filing data \n",
        "filing_code = op['filings'][res]['id']\n",
        "url2 = \"https://api-v2.intrinio.com/filings/\" + \"fil_YonB5Z\" + \"/fundamentals?api_key=OjAwYjk1OWYxZGEzYWQ2Y2VjN2YyMWExY2RkMTM2Y2Uz\"\n",
        "filin = requests.get(url2)\n",
        "op2 = filin.json()"
      ],
      "metadata": {
        "id": "QbG6fraK8GBd"
      },
      "execution_count": null,
      "outputs": []
    },
    {
      "cell_type": "code",
      "source": [
        "url3 = \"https://api-v2.intrinio.com/fundamentals/\" + \"fun_bWZqPb\" + \"/standardized_financials?api_key=OjAwYjk1OWYxZGEzYWQ2Y2VjN2YyMWExY2RkMTM2Y2Uz\"\n",
        "filin = requests.get(url3)\n",
        "op3 = filin.json()"
      ],
      "metadata": {
        "id": "tl9Yct9xRaGw"
      },
      "execution_count": null,
      "outputs": []
    },
    {
      "cell_type": "code",
      "source": [
        "#print(filing_code)\n",
        "# netdebt = totaldebt - cash - restrictedcash - fedfundssold - interestbearingdepositsatotherbanks - timedepositsplaced\n",
        "pprint.pprint(op2)"
      ],
      "metadata": {
        "colab": {
          "base_uri": "https://localhost:8080/"
        },
        "id": "SfBP2jGb_IIN",
        "outputId": "bcdb74a8-e29c-4e3d-a08b-df21019e6a90"
      },
      "execution_count": null,
      "outputs": [
        {
          "output_type": "stream",
          "name": "stdout",
          "text": [
            "{'filing': {'accepted_date': '2022-10-27T18:01:14.000Z',\n",
            "            'filing_date': '2022-10-28',\n",
            "            'filing_url': 'https://www.sec.gov/Archives/edgar/data/320193/32019322000108/0000320193-22-000108-index.htm',\n",
            "            'id': 'fil_YonB5Z',\n",
            "            'industry_category': 'Electronics',\n",
            "            'industry_group': 'Diversified Electronics',\n",
            "            'instance_url': None,\n",
            "            'period_end_date': '2022-09-24',\n",
            "            'report_type': '10-K',\n",
            "            'report_url': 'https://www.sec.gov/Archives/edgar/data/320193/000032019322000108/aapl-20220924.htm',\n",
            "            'sec_unique_id': '0000320193-22-000108',\n",
            "            'thea_enabled': False,\n",
            "            'word_count': None},\n",
            " 'fundamentals': [{'end_date': '2022-09-24',\n",
            "                   'filing_date': '2022-10-27T22:01:14.000Z',\n",
            "                   'fiscal_period': 'FY',\n",
            "                   'fiscal_year': 2022,\n",
            "                   'id': 'fun_bWZqPb',\n",
            "                   'is_latest': True,\n",
            "                   'start_date': '2021-09-26',\n",
            "                   'statement_code': 'income_statement',\n",
            "                   'type': 'reported',\n",
            "                   'updated_date': '2023-02-12T05:04:07.490Z'},\n",
            "                  {'end_date': '2021-09-25',\n",
            "                   'filing_date': '2022-10-27T22:01:14.000Z',\n",
            "                   'fiscal_period': 'FY',\n",
            "                   'fiscal_year': 2021,\n",
            "                   'id': 'fun_1ELvAe',\n",
            "                   'is_latest': True,\n",
            "                   'start_date': '2020-09-27',\n",
            "                   'statement_code': 'income_statement',\n",
            "                   'type': 'restated',\n",
            "                   'updated_date': '2023-02-12T05:04:07.288Z'},\n",
            "                  {'end_date': '2020-09-26',\n",
            "                   'filing_date': '2022-10-27T22:01:14.000Z',\n",
            "                   'fiscal_period': 'FY',\n",
            "                   'fiscal_year': 2020,\n",
            "                   'id': 'fun_Q8jxDl',\n",
            "                   'is_latest': True,\n",
            "                   'start_date': '2019-09-29',\n",
            "                   'statement_code': 'income_statement',\n",
            "                   'type': 'restated',\n",
            "                   'updated_date': '2023-02-12T05:04:22.218Z'},\n",
            "                  {'end_date': '2022-09-24',\n",
            "                   'filing_date': '2022-10-27T22:01:14.000Z',\n",
            "                   'fiscal_period': 'FY',\n",
            "                   'fiscal_year': 2022,\n",
            "                   'id': 'fun_03v6jd',\n",
            "                   'is_latest': False,\n",
            "                   'start_date': None,\n",
            "                   'statement_code': 'balance_sheet_statement',\n",
            "                   'type': 'reported',\n",
            "                   'updated_date': '2023-02-12T05:04:23.806Z'},\n",
            "                  {'end_date': '2021-09-25',\n",
            "                   'filing_date': '2022-10-27T22:01:14.000Z',\n",
            "                   'fiscal_period': 'FY',\n",
            "                   'fiscal_year': 2021,\n",
            "                   'id': 'fun_59EPq0',\n",
            "                   'is_latest': True,\n",
            "                   'start_date': None,\n",
            "                   'statement_code': 'balance_sheet_statement',\n",
            "                   'type': 'restated',\n",
            "                   'updated_date': '2023-02-12T05:04:07.249Z'},\n",
            "                  {'end_date': '2022-09-24',\n",
            "                   'filing_date': '2022-10-27T22:01:14.000Z',\n",
            "                   'fiscal_period': 'FY',\n",
            "                   'fiscal_year': 2022,\n",
            "                   'id': 'fun_VbDRAk',\n",
            "                   'is_latest': True,\n",
            "                   'start_date': '2021-09-26',\n",
            "                   'statement_code': 'cash_flow_statement',\n",
            "                   'type': 'reported',\n",
            "                   'updated_date': '2023-02-12T05:04:15.622Z'},\n",
            "                  {'end_date': '2021-09-25',\n",
            "                   'filing_date': '2022-10-27T22:01:14.000Z',\n",
            "                   'fiscal_period': 'FY',\n",
            "                   'fiscal_year': 2021,\n",
            "                   'id': 'fun_6GOEpJ',\n",
            "                   'is_latest': True,\n",
            "                   'start_date': '2020-09-27',\n",
            "                   'statement_code': 'cash_flow_statement',\n",
            "                   'type': 'restated',\n",
            "                   'updated_date': '2023-02-12T05:04:23.532Z'},\n",
            "                  {'end_date': '2020-09-26',\n",
            "                   'filing_date': '2022-10-27T22:01:14.000Z',\n",
            "                   'fiscal_period': 'FY',\n",
            "                   'fiscal_year': 2020,\n",
            "                   'id': 'fun_vxk7nY',\n",
            "                   'is_latest': True,\n",
            "                   'start_date': '2019-09-29',\n",
            "                   'statement_code': 'cash_flow_statement',\n",
            "                   'type': 'restated',\n",
            "                   'updated_date': '2023-02-12T05:04:23.482Z'}]}\n"
          ]
        }
      ]
    },
    {
      "cell_type": "code",
      "source": [
        "print(op['filings'][res]['id'])"
      ],
      "metadata": {
        "colab": {
          "base_uri": "https://localhost:8080/"
        },
        "id": "E35Jgjcu9jGZ",
        "outputId": "87631ce3-0146-494f-e014-9a8af005340b"
      },
      "execution_count": null,
      "outputs": [
        {
          "output_type": "stream",
          "name": "stdout",
          "text": [
            "fil_YonB5Z\n"
          ]
        }
      ]
    },
    {
      "cell_type": "code",
      "source": [
        "!pip install intrinio-sdk"
      ],
      "metadata": {
        "colab": {
          "base_uri": "https://localhost:8080/"
        },
        "id": "uyf_ZNsDpOEt",
        "outputId": "82f3e08d-7e73-4472-f189-f980240f9f37"
      },
      "execution_count": null,
      "outputs": [
        {
          "output_type": "stream",
          "name": "stdout",
          "text": [
            "Looking in indexes: https://pypi.org/simple, https://us-python.pkg.dev/colab-wheels/public/simple/\n",
            "Collecting intrinio-sdk\n",
            "  Downloading intrinio_sdk-6.22.2-py3-none-any.whl (966 kB)\n",
            "\u001b[2K     \u001b[90m━━━━━━━━━━━━━━━━━━━━━━━━━━━━━━━━━━━━━━\u001b[0m \u001b[32m966.6/966.6 KB\u001b[0m \u001b[31m14.4 MB/s\u001b[0m eta \u001b[36m0:00:00\u001b[0m\n",
            "\u001b[?25hRequirement already satisfied: python-dateutil in /usr/local/lib/python3.8/dist-packages (from intrinio-sdk) (2.8.2)\n",
            "Requirement already satisfied: urllib3>=1.15 in /usr/local/lib/python3.8/dist-packages (from intrinio-sdk) (1.24.3)\n",
            "Collecting retrying>=1.3.3\n",
            "  Downloading retrying-1.3.4-py3-none-any.whl (11 kB)\n",
            "Requirement already satisfied: certifi in /usr/local/lib/python3.8/dist-packages (from intrinio-sdk) (2022.12.7)\n",
            "Requirement already satisfied: six>=1.10 in /usr/local/lib/python3.8/dist-packages (from intrinio-sdk) (1.15.0)\n",
            "Installing collected packages: retrying, intrinio-sdk\n",
            "Successfully installed intrinio-sdk-6.22.2 retrying-1.3.4\n"
          ]
        }
      ]
    },
    {
      "cell_type": "code",
      "source": [
        "from __future__ import print_function\n",
        "import time\n",
        "import intrinio_sdk as intrinio\n",
        "from intrinio_sdk.rest import ApiException\n",
        "\n",
        "intrinio.ApiClient().set_api_key('OjAwYjk1OWYxZGEzYWQ2Y2VjN2YyMWExY2RkMTM2Y2Uz')\n",
        "intrinio.ApiClient().allow_retries(True)\n",
        "\n",
        "identifier = 'AAPL'\n",
        "tag = 'netdebt'\n",
        "frequency = ''\n",
        "type = ''\n",
        "start_date = '2022-04-30'\n",
        "end_date = '2023-02-22'\n",
        "sort_order = 'desc'\n",
        "page_size = 100\n",
        "next_page = ''\n",
        "\n",
        "response = intrinio.CompanyApi().get_company_historical_data(identifier, tag, frequency=frequency, type=type, start_date=start_date, end_date=end_date, sort_order=sort_order, page_size=page_size, next_page=next_page)\n",
        "print(response)"
      ],
      "metadata": {
        "colab": {
          "base_uri": "https://localhost:8080/"
        },
        "id": "VS-XJvR2ox16",
        "outputId": "56630816-5d58-49ac-d1c0-6ee00ea68b49"
      },
      "execution_count": null,
      "outputs": [
        {
          "output_type": "stream",
          "name": "stdout",
          "text": [
            "{'company': {'cik': '0000320193',\n",
            "             'id': 'com_NX6GzO',\n",
            "             'lei': 'HWUPKR0MPOU8FGXBT394',\n",
            "             'name': 'Apple Inc',\n",
            "             'ticker': 'AAPL'},\n",
            " 'historical_data': [{'date': datetime.date(2022, 12, 31),\n",
            "                      'value': -54340000000.0},\n",
            "                     {'date': datetime.date(2022, 9, 24),\n",
            "                      'value': -49040000000.0},\n",
            "                     {'date': datetime.date(2022, 6, 25),\n",
            "                      'value': -59617000000.0}],\n",
            " 'next_page': None}\n"
          ]
        }
      ]
    },
    {
      "cell_type": "code",
      "source": [
        "url4 = \"https://api-v2.intrinio.com/companies/AAPL/shares_outstanding?api_key=OjAwYjk1OWYxZGEzYWQ2Y2VjN2YyMWExY2RkMTM2Y2Uz\"\n",
        "filin = requests.get(url3)\n",
        "op4 = filin.json()"
      ],
      "metadata": {
        "id": "SNT6ysD3cZA-"
      },
      "execution_count": null,
      "outputs": []
    },
    {
      "cell_type": "code",
      "source": [
        "pprint.pprint(op4)"
      ],
      "metadata": {
        "id": "g5rt_mh6ceV4"
      },
      "execution_count": null,
      "outputs": []
    }
  ]
}